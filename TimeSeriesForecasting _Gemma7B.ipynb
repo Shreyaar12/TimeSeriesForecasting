{
  "nbformat": 4,
  "nbformat_minor": 0,
  "metadata": {
    "colab": {
      "provenance": [],
      "machine_shape": "hm",
      "gpuType": "V100",
      "mount_file_id": "10yXUW2wnvFmVJyGJsJlDE_leFxekW8Oz",
      "authorship_tag": "ABX9TyNZ6ZPHBo4rDlHj97m28ZiW",
      "include_colab_link": true
    },
    "kernelspec": {
      "name": "python3",
      "display_name": "Python 3"
    },
    "language_info": {
      "name": "python"
    },
    "accelerator": "GPU"
  },
  "cells": [
    {
      "cell_type": "markdown",
      "metadata": {
        "id": "view-in-github",
        "colab_type": "text"
      },
      "source": [
        "<a href=\"https://colab.research.google.com/github/Shreyaar12/TimeSeriesForecasting/blob/main/TimeSeriesForecasting%20_Gemma7B.ipynb\" target=\"_parent\"><img src=\"https://colab.research.google.com/assets/colab-badge.svg\" alt=\"Open In Colab\"/></a>"
      ]
    },
    {
      "cell_type": "markdown",
      "source": [
        "#Using Ollama with Gemma:7B\n",
        "GEMMA:7B is a state-of-the-art machine learning model specialized in handling and analyzing time series data. It can be effectively used for forecasting air pollution levels by ingesting historical air quality data, including pollutants like PM2.5, NO2, and O3, and environmental variables. Through its advanced algorithms, GEMMA:7B can predict future pollution trends, aiding in environmental monitoring and decision-making for public health initiatives."
      ],
      "metadata": {
        "id": "vwu6gWVadk08"
      }
    },
    {
      "cell_type": "markdown",
      "source": [
        "Installing ollama on the system"
      ],
      "metadata": {
        "id": "rWVldZM5eE_k"
      }
    },
    {
      "cell_type": "code",
      "execution_count": null,
      "metadata": {
        "colab": {
          "base_uri": "https://localhost:8080/"
        },
        "id": "NnCkhXnxm5_5",
        "outputId": "5361969a-b39a-4f0a-cdd2-30eb93fb60eb"
      },
      "outputs": [
        {
          "output_type": "stream",
          "name": "stdout",
          "text": [
            ">>> Downloading ollama...\n",
            "############################################################################################# 100.0%\n",
            ">>> Installing ollama to /usr/local/bin...\n",
            ">>> Creating ollama user...\n",
            ">>> Adding ollama user to video group...\n",
            ">>> Adding current user to ollama group...\n",
            ">>> Creating ollama systemd service...\n",
            "WARNING: Unable to detect NVIDIA GPU. Install lspci or lshw to automatically detect and install NVIDIA CUDA drivers.\n",
            ">>> The Ollama API is now available at 127.0.0.1:11434.\n",
            ">>> Install complete. Run \"ollama\" from the command line.\n"
          ]
        }
      ],
      "source": [
        "!curl -fsSL https://ollama.com/install.sh | sh\n"
      ]
    },
    {
      "cell_type": "code",
      "source": [
        "#ollama serve & ollama run gemma:7b\n",
        "# run the above command in terminal"
      ],
      "metadata": {
        "id": "tMmjBrx9gi1i"
      },
      "execution_count": null,
      "outputs": []
    },
    {
      "cell_type": "markdown",
      "source": [
        "installing langchain"
      ],
      "metadata": {
        "id": "3jA_jpZSeMh9"
      }
    },
    {
      "cell_type": "code",
      "source": [
        "!pip install langchain-community\n"
      ],
      "metadata": {
        "colab": {
          "base_uri": "https://localhost:8080/"
        },
        "id": "TBvFRtZBnGya",
        "outputId": "99b9c49d-9718-4826-8859-f032e5cf3195"
      },
      "execution_count": null,
      "outputs": [
        {
          "output_type": "stream",
          "name": "stdout",
          "text": [
            "Collecting langchain-community\n",
            "  Downloading langchain_community-0.0.26-py3-none-any.whl (1.8 MB)\n",
            "\u001b[?25l     \u001b[90m━━━━━━━━━━━━━━━━━━━━━━━━━━━━━━━━━━━━━━━━\u001b[0m \u001b[32m0.0/1.8 MB\u001b[0m \u001b[31m?\u001b[0m eta \u001b[36m-:--:--\u001b[0m\r\u001b[2K     \u001b[91m━━━━━━━━━━━━━\u001b[0m\u001b[90m╺\u001b[0m\u001b[90m━━━━━━━━━━━━━━━━━━━━━━━━━━\u001b[0m \u001b[32m0.6/1.8 MB\u001b[0m \u001b[31m17.8 MB/s\u001b[0m eta \u001b[36m0:00:01\u001b[0m\r\u001b[2K     \u001b[91m━━━━━━━━━━━━━━━━━━━━━━━━━━━━━━━━━━━\u001b[0m\u001b[90m╺\u001b[0m\u001b[90m━━━━\u001b[0m \u001b[32m1.6/1.8 MB\u001b[0m \u001b[31m22.7 MB/s\u001b[0m eta \u001b[36m0:00:01\u001b[0m\r\u001b[2K     \u001b[90m━━━━━━━━━━━━━━━━━━━━━━━━━━━━━━━━━━━━━━━━\u001b[0m \u001b[32m1.8/1.8 MB\u001b[0m \u001b[31m19.8 MB/s\u001b[0m eta \u001b[36m0:00:00\u001b[0m\n",
            "\u001b[?25hRequirement already satisfied: PyYAML>=5.3 in /usr/local/lib/python3.10/dist-packages (from langchain-community) (6.0.1)\n",
            "Requirement already satisfied: SQLAlchemy<3,>=1.4 in /usr/local/lib/python3.10/dist-packages (from langchain-community) (2.0.28)\n",
            "Requirement already satisfied: aiohttp<4.0.0,>=3.8.3 in /usr/local/lib/python3.10/dist-packages (from langchain-community) (3.9.3)\n",
            "Collecting dataclasses-json<0.7,>=0.5.7 (from langchain-community)\n",
            "  Downloading dataclasses_json-0.6.4-py3-none-any.whl (28 kB)\n",
            "Collecting langchain-core<0.2.0,>=0.1.29 (from langchain-community)\n",
            "  Downloading langchain_core-0.1.29-py3-none-any.whl (252 kB)\n",
            "\u001b[2K     \u001b[90m━━━━━━━━━━━━━━━━━━━━━━━━━━━━━━━━━━━━━━━━\u001b[0m \u001b[32m252.6/252.6 kB\u001b[0m \u001b[31m20.9 MB/s\u001b[0m eta \u001b[36m0:00:00\u001b[0m\n",
            "\u001b[?25hCollecting langsmith<0.2.0,>=0.1.0 (from langchain-community)\n",
            "  Downloading langsmith-0.1.22-py3-none-any.whl (66 kB)\n",
            "\u001b[2K     \u001b[90m━━━━━━━━━━━━━━━━━━━━━━━━━━━━━━━━━━━━━━━━\u001b[0m \u001b[32m66.6/66.6 kB\u001b[0m \u001b[31m8.2 MB/s\u001b[0m eta \u001b[36m0:00:00\u001b[0m\n",
            "\u001b[?25hRequirement already satisfied: numpy<2,>=1 in /usr/local/lib/python3.10/dist-packages (from langchain-community) (1.25.2)\n",
            "Requirement already satisfied: requests<3,>=2 in /usr/local/lib/python3.10/dist-packages (from langchain-community) (2.31.0)\n",
            "Requirement already satisfied: tenacity<9.0.0,>=8.1.0 in /usr/local/lib/python3.10/dist-packages (from langchain-community) (8.2.3)\n",
            "Requirement already satisfied: aiosignal>=1.1.2 in /usr/local/lib/python3.10/dist-packages (from aiohttp<4.0.0,>=3.8.3->langchain-community) (1.3.1)\n",
            "Requirement already satisfied: attrs>=17.3.0 in /usr/local/lib/python3.10/dist-packages (from aiohttp<4.0.0,>=3.8.3->langchain-community) (23.2.0)\n",
            "Requirement already satisfied: frozenlist>=1.1.1 in /usr/local/lib/python3.10/dist-packages (from aiohttp<4.0.0,>=3.8.3->langchain-community) (1.4.1)\n",
            "Requirement already satisfied: multidict<7.0,>=4.5 in /usr/local/lib/python3.10/dist-packages (from aiohttp<4.0.0,>=3.8.3->langchain-community) (6.0.5)\n",
            "Requirement already satisfied: yarl<2.0,>=1.0 in /usr/local/lib/python3.10/dist-packages (from aiohttp<4.0.0,>=3.8.3->langchain-community) (1.9.4)\n",
            "Requirement already satisfied: async-timeout<5.0,>=4.0 in /usr/local/lib/python3.10/dist-packages (from aiohttp<4.0.0,>=3.8.3->langchain-community) (4.0.3)\n",
            "Collecting marshmallow<4.0.0,>=3.18.0 (from dataclasses-json<0.7,>=0.5.7->langchain-community)\n",
            "  Downloading marshmallow-3.21.1-py3-none-any.whl (49 kB)\n",
            "\u001b[2K     \u001b[90m━━━━━━━━━━━━━━━━━━━━━━━━━━━━━━━━━━━━━━━━\u001b[0m \u001b[32m49.4/49.4 kB\u001b[0m \u001b[31m6.0 MB/s\u001b[0m eta \u001b[36m0:00:00\u001b[0m\n",
            "\u001b[?25hCollecting typing-inspect<1,>=0.4.0 (from dataclasses-json<0.7,>=0.5.7->langchain-community)\n",
            "  Downloading typing_inspect-0.9.0-py3-none-any.whl (8.8 kB)\n",
            "Requirement already satisfied: anyio<5,>=3 in /usr/local/lib/python3.10/dist-packages (from langchain-core<0.2.0,>=0.1.29->langchain-community) (3.7.1)\n",
            "Collecting jsonpatch<2.0,>=1.33 (from langchain-core<0.2.0,>=0.1.29->langchain-community)\n",
            "  Downloading jsonpatch-1.33-py2.py3-none-any.whl (12 kB)\n",
            "Requirement already satisfied: packaging<24.0,>=23.2 in /usr/local/lib/python3.10/dist-packages (from langchain-core<0.2.0,>=0.1.29->langchain-community) (23.2)\n",
            "Requirement already satisfied: pydantic<3,>=1 in /usr/local/lib/python3.10/dist-packages (from langchain-core<0.2.0,>=0.1.29->langchain-community) (2.6.3)\n",
            "Collecting orjson<4.0.0,>=3.9.14 (from langsmith<0.2.0,>=0.1.0->langchain-community)\n",
            "  Downloading orjson-3.9.15-cp310-cp310-manylinux_2_17_x86_64.manylinux2014_x86_64.whl (138 kB)\n",
            "\u001b[2K     \u001b[90m━━━━━━━━━━━━━━━━━━━━━━━━━━━━━━━━━━━━━━━━\u001b[0m \u001b[32m138.5/138.5 kB\u001b[0m \u001b[31m17.5 MB/s\u001b[0m eta \u001b[36m0:00:00\u001b[0m\n",
            "\u001b[?25hRequirement already satisfied: charset-normalizer<4,>=2 in /usr/local/lib/python3.10/dist-packages (from requests<3,>=2->langchain-community) (3.3.2)\n",
            "Requirement already satisfied: idna<4,>=2.5 in /usr/local/lib/python3.10/dist-packages (from requests<3,>=2->langchain-community) (3.6)\n",
            "Requirement already satisfied: urllib3<3,>=1.21.1 in /usr/local/lib/python3.10/dist-packages (from requests<3,>=2->langchain-community) (2.0.7)\n",
            "Requirement already satisfied: certifi>=2017.4.17 in /usr/local/lib/python3.10/dist-packages (from requests<3,>=2->langchain-community) (2024.2.2)\n",
            "Requirement already satisfied: typing-extensions>=4.6.0 in /usr/local/lib/python3.10/dist-packages (from SQLAlchemy<3,>=1.4->langchain-community) (4.10.0)\n",
            "Requirement already satisfied: greenlet!=0.4.17 in /usr/local/lib/python3.10/dist-packages (from SQLAlchemy<3,>=1.4->langchain-community) (3.0.3)\n",
            "Requirement already satisfied: sniffio>=1.1 in /usr/local/lib/python3.10/dist-packages (from anyio<5,>=3->langchain-core<0.2.0,>=0.1.29->langchain-community) (1.3.1)\n",
            "Requirement already satisfied: exceptiongroup in /usr/local/lib/python3.10/dist-packages (from anyio<5,>=3->langchain-core<0.2.0,>=0.1.29->langchain-community) (1.2.0)\n",
            "Collecting jsonpointer>=1.9 (from jsonpatch<2.0,>=1.33->langchain-core<0.2.0,>=0.1.29->langchain-community)\n",
            "  Downloading jsonpointer-2.4-py2.py3-none-any.whl (7.8 kB)\n",
            "Requirement already satisfied: annotated-types>=0.4.0 in /usr/local/lib/python3.10/dist-packages (from pydantic<3,>=1->langchain-core<0.2.0,>=0.1.29->langchain-community) (0.6.0)\n",
            "Requirement already satisfied: pydantic-core==2.16.3 in /usr/local/lib/python3.10/dist-packages (from pydantic<3,>=1->langchain-core<0.2.0,>=0.1.29->langchain-community) (2.16.3)\n",
            "Collecting mypy-extensions>=0.3.0 (from typing-inspect<1,>=0.4.0->dataclasses-json<0.7,>=0.5.7->langchain-community)\n",
            "  Downloading mypy_extensions-1.0.0-py3-none-any.whl (4.7 kB)\n",
            "Installing collected packages: orjson, mypy-extensions, marshmallow, jsonpointer, typing-inspect, jsonpatch, langsmith, dataclasses-json, langchain-core, langchain-community\n",
            "Successfully installed dataclasses-json-0.6.4 jsonpatch-1.33 jsonpointer-2.4 langchain-community-0.0.26 langchain-core-0.1.29 langsmith-0.1.22 marshmallow-3.21.1 mypy-extensions-1.0.0 orjson-3.9.15 typing-inspect-0.9.0\n"
          ]
        }
      ]
    },
    {
      "cell_type": "code",
      "source": [
        "from langchain_community.llms import Ollama\n"
      ],
      "metadata": {
        "id": "U3M3xGPPnLh5"
      },
      "execution_count": null,
      "outputs": []
    },
    {
      "cell_type": "code",
      "source": [
        "llm = Ollama(model=\"gemma:7b\")\n"
      ],
      "metadata": {
        "id": "T75Js5RsnPKO"
      },
      "execution_count": null,
      "outputs": []
    },
    {
      "cell_type": "code",
      "source": [
        "llm\n"
      ],
      "metadata": {
        "colab": {
          "base_uri": "https://localhost:8080/"
        },
        "id": "1iXh05jpnRKF",
        "outputId": "51c9aff6-31f5-4ea8-a387-08438844c722"
      },
      "execution_count": null,
      "outputs": [
        {
          "output_type": "execute_result",
          "data": {
            "text/plain": [
              "Ollama(model='gemma:7b')"
            ]
          },
          "metadata": {},
          "execution_count": 5
        }
      ]
    },
    {
      "cell_type": "markdown",
      "source": [
        "Loading data"
      ],
      "metadata": {
        "id": "B993knMAeV3F"
      }
    },
    {
      "cell_type": "code",
      "source": [
        "import pandas as pd\n",
        "import matplotlib as mpl\n",
        "import matplotlib.pyplot as plt\n"
      ],
      "metadata": {
        "id": "rmnASB-qiPE3"
      },
      "execution_count": null,
      "outputs": []
    },
    {
      "cell_type": "code",
      "source": [
        "df = pd.read_csv('/content/2022+2023.csv')"
      ],
      "metadata": {
        "id": "Z8agfY54it6k"
      },
      "execution_count": null,
      "outputs": []
    },
    {
      "cell_type": "markdown",
      "source": [
        "Cleaning data"
      ],
      "metadata": {
        "id": "THbDhW9eeXCx"
      }
    },
    {
      "cell_type": "code",
      "source": [
        "x = df[\"NO2 (µg/m³)\"].mean() #do this for all parameters\n",
        "\n",
        "df[\"NO2 (µg/m³)\"].fillna(x, inplace = True)"
      ],
      "metadata": {
        "id": "Yegej7zmiye_"
      },
      "execution_count": null,
      "outputs": []
    },
    {
      "cell_type": "code",
      "source": [
        "data =df\n"
      ],
      "metadata": {
        "id": "emGeQ7V1jQU5"
      },
      "execution_count": null,
      "outputs": []
    },
    {
      "cell_type": "code",
      "source": [
        "Zero shot prompting Gemma:7b"
      ],
      "metadata": {
        "id": "L-xW_JkAeZUO"
      },
      "execution_count": null,
      "outputs": []
    },
    {
      "cell_type": "code",
      "source": [
        "prompt=f'''\n",
        "You are a datascientist who has to do time forecasting of air pollution for the next 24 hours based on the data of 2 years given to you. /\n",
        "The previous 2 year data is  {data}.. Consider this all features and target as pm2.5 and give the prediction for pm2.5 in the next 24 hours. /\n",
        "Go through each and every value of all features given in the last 2 years, now calculate the pm 2.5 in the next 24 hours as this data is based on one particular place then your prediction will also be based on that particular place /\n",
        "Please do time series forecasting by learning from the 2 year data given to you and predicting the next 24 hours data\n",
        "Dont give code make the prediction yourself\n",
        "To perform this, you may use any algorithm but please give a calculated prediction for pm2.5 for the next 24 hours based on all features given in the dataset\n",
        "and analyse teh trend from past 2 years data of all features and teh target pm 2.5\n",
        "GIVE A CALCULATED PREDICTION NO EXAMPLE VALUE JUST THE MAIN ANSWER\n",
        "'''"
      ],
      "metadata": {
        "id": "PR4xziy0jZVq"
      },
      "execution_count": null,
      "outputs": []
    },
    {
      "cell_type": "code",
      "source": [
        "llm.invoke(prompt)\n"
      ],
      "metadata": {
        "id": "pWfTU_n8nR1E",
        "outputId": "2d7b2ecf-2842-4208-8485-230d5942700c",
        "colab": {
          "base_uri": "https://localhost:8080/",
          "height": 227
        }
      },
      "execution_count": null,
      "outputs": [
        {
          "output_type": "execute_result",
          "data": {
            "text/plain": [
              "\"## PM2.5 Prediction for the Next 24 Hours\\n\\nBased on the analysis of the past 2 years' data, the predicted PM2.5 for the next 24 hours is as follows:\\n\\n**Predicted PM2.5 Values:**\\n\\n0   233.12\\n1   248.26\\n2   211.83\\n3   182.41\\n4   218.32\\n...  ...\\n\\nThe trend observed in the past 2 years' data is that PM2.5 generally follows a seasonal pattern, with higher values occurring in the summer months and lower values occurring in the winter months. Additionally, there is a noticeable increase in PM2.5 levels during the evenings, particularly between the hours of 6:00 PM and 10:00 PM. This is likely due to the increased use of air conditioning and other appliances during these hours.\\n\\nThe features that are most strongly correlated with PM2.5 levels are PM10, NO, and Ozone. This is because these features are all related to the same sources of pollution, such as combustion engines and industrial processes. The presence of these features in high levels is likely to contribute to high PM2.5 levels.\""
            ],
            "application/vnd.google.colaboratory.intrinsic+json": {
              "type": "string"
            }
          },
          "metadata": {},
          "execution_count": 39
        }
      ]
    },
    {
      "cell_type": "code",
      "source": [
        "llm.invoke(\"I need to plot the values of pm2.5 for next 24 hours Values:**\\n\\n0   233.12\\n1   248.26\\n2   211.83\\n3   182.41\\n4   218.32\\ taht you calculate on graph can you give me exact coordinates and matplotlib code?\")\n"
      ],
      "metadata": {
        "colab": {
          "base_uri": "https://localhost:8080/",
          "height": 174
        },
        "id": "NoBjzz1xk0df",
        "outputId": "52fc1667-6b91-4904-826e-ca82fa0f1070"
      },
      "execution_count": null,
      "outputs": [
        {
          "output_type": "execute_result",
          "data": {
            "text/plain": [
              "'**Coordinates:**\\n\\n* x-axis: 0, 1, 2, 3, 4\\n* y-axis: 233.12, 248.26, 211.83, 182.41, 218.32\\n\\n**Matplotlib code:**\\n\\n```python\\nimport matplotlib.pyplot as plt\\n\\n# Define the x and y axes labels\\nx_axis_label = \"Hours\"\\ny_axis_label = \"PM 2.5 Concentration\"\\n\\n# Create a line plot\\nplt.plot([0, 1, 2, 3, 4], [233.12, 248.26, 211.83, 182.41, 218.32])\\n\\n# Set the x and y axis labels\\nplt.xlabel(x_axis_label)\\nplt.ylabel(y_axis_label)\\n\\n# Show the plot\\nplt.show()\\n```\\n\\n**Output:**\\n\\nThe output of the code will be a line plot with the values of pm2.5 for the next 24 hours. The x-axis will be labeled with the hours, and the y-axis will be labeled with the pm2.5 concentration.'"
            ],
            "application/vnd.google.colaboratory.intrinsic+json": {
              "type": "string"
            }
          },
          "metadata": {},
          "execution_count": 41
        }
      ]
    },
    {
      "cell_type": "markdown",
      "source": [
        "Plotting the graph"
      ],
      "metadata": {
        "id": "MIiZX9qgegXa"
      }
    },
    {
      "cell_type": "code",
      "source": [
        "import matplotlib.pyplot as plt\n",
        "\n",
        "# Predicted PM2.5 values\n",
        "predicted_pm25_values = [233.12, 248.26, 211.83, 182.41, 218.32]\n",
        "time_points = range(1, len(predicted_pm25_values) + 1)\n",
        "\n",
        "# Plotting the predicted PM2.5 values\n",
        "plt.figure(figsize=(10, 6))\n",
        "plt.plot(time_points, predicted_pm25_values, marker='o', linestyle='-', color='blue')\n",
        "plt.title('Predicted PM2.5 Values')\n",
        "plt.xlabel('Time Point')\n",
        "plt.ylabel('PM2.5 (µg/m³)')\n",
        "plt.xticks(time_points)\n",
        "plt.grid(True)\n",
        "plt.show()\n"
      ],
      "metadata": {
        "id": "R9uQLOlYnoo5",
        "outputId": "3b5aeefd-7ea2-4aba-b488-555aa02562cb",
        "colab": {
          "base_uri": "https://localhost:8080/",
          "height": 564
        }
      },
      "execution_count": null,
      "outputs": [
        {
          "output_type": "display_data",
          "data": {
            "text/plain": [
              "<Figure size 1000x600 with 1 Axes>"
            ],
            "image/png": "[encoded data removed]"
          },
          "metadata": {}
        }
      ]
    },
    {
      "cell_type": "markdown",
      "source": [
        "Other LLMS"
      ],
      "metadata": {
        "id": "QCupyyoGe0Tu"
      }
    },
    {
      "cell_type": "markdown",
      "source": [
        "A similar prompt is given to gpt 4 and we successfully get a predicted value there also, a screenshot is uploaded in the github repository"
      ],
      "metadata": {
        "id": "Di1n5ZN3enH1"
      }
    }
  ]
}